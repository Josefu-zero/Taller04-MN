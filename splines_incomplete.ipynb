{
 "cells": [
  {
   "cell_type": "code",
   "execution_count": null,
   "metadata": {},
   "outputs": [],
   "source": [
    "import sympy as sym\n",
    "from IPython.display import display\n",
    "\n",
    "\n",
    "# ###################################################################\n",
    "def cubic_spline(xs: list[float], ys: list[float]) -> list[sym.Symbol]:\n",
    "    \"\"\"\n",
    "    Cubic spline interpolation ``S``. Every two points are interpolated by a cubic polynomial\n",
    "    ``S_j`` of the form ``S_j(x) = a_j + b_j(x - x_j) + c_j(x - x_j)^2 + d_j(x - x_j)^3.``\n",
    "\n",
    "    xs must be different  but not necessarily ordered nor equally spaced.\n",
    "\n",
    "    ## Parameters\n",
    "    - xs, ys: points to be interpolated\n",
    "\n",
    "    ## Return\n",
    "    - List of symbolic expressions for the cubic spline interpolation.\n",
    "    \"\"\"\n",
    "\n",
    "    points = sorted(zip(xs, ys), key=lambda x: x[0])  # sort points by x\n",
    "\n",
    "    xs = [x for x, _ in points]\n",
    "    ys = [y for _, y in points]\n",
    "\n",
    "    n = len(points) - 1  # number of splines\n",
    "\n",
    "    h = [xs[i + 1] - xs[i] for i in range(n)]  # distances between  contiguous xs\n",
    "\n",
    "    alpha = []\n",
    "    for i in range(1, n):\n",
    "        alpha[i] = 3 / h[i] * (ys[i + 1] - ys[i]) - 3 / h[i - 1] * (ys[i] - ys[i - 1])\n",
    "\n",
    "    l = [1]\n",
    "    u = [0]\n",
    "    z = [0]\n",
    "\n",
    "    for i in range(1, n):\n",
    "        l += [2 * (xs[i + 1] - xs[i - 1]) - h[i - 1] * u[i - 1]]\n",
    "        u += [h[i] / l[i]]\n",
    "        z += [(a[i]-h[i-1]*z[i-1])/l[i]]\n",
    "\n",
    "    l.append(1)\n",
    "    z.append(0)\n",
    "    c = [0] * (n + 1)\n",
    "\n",
    "    x = sym.Symbol(\"x\")\n",
    "    splines = []\n",
    "    for j in range(n - 1, -1, -1):\n",
    "        c[j] = z[j] - u[j] * c[j + 1]\n",
    "        b = (ys[j + 1] - ys[j]) / h[j] - h[j] * (c[j + 1] + 2 * c[j]) / 3\n",
    "        d = (c[j + 1] - c[j]) / (3 * h[j])\n",
    "        a = (3/h[j])*(a[j+1]-a[j])-((3/h[j-1])*(a[j]-a[j-1]))    # = completar\n",
    "\n",
    "        print(j, a, b, c[j], d)\n",
    "        S = a[j]+b[j] # = completar\n",
    "\n",
    "        splines.append(S)\n",
    "    splines.reverse()\n",
    "    return splines"
   ]
  },
  {
   "cell_type": "code",
   "execution_count": 7,
   "metadata": {},
   "outputs": [
    {
     "ename": "NameError",
     "evalue": "name 'alpha' is not defined",
     "output_type": "error",
     "traceback": [
      "\u001b[31m---------------------------------------------------------------------------\u001b[39m",
      "\u001b[31mNameError\u001b[39m                                 Traceback (most recent call last)",
      "\u001b[36mCell\u001b[39m\u001b[36m \u001b[39m\u001b[32mIn[7]\u001b[39m\u001b[32m, line 4\u001b[39m\n\u001b[32m      1\u001b[39m xs = [\u001b[32m0\u001b[39m, \u001b[32m1\u001b[39m, \u001b[32m2\u001b[39m]\n\u001b[32m      2\u001b[39m ys = [-\u001b[32m5\u001b[39m, -\u001b[32m4\u001b[39m, \u001b[32m3\u001b[39m]\n\u001b[32m----> \u001b[39m\u001b[32m4\u001b[39m splines = \u001b[43mcubic_spline\u001b[49m\u001b[43m(\u001b[49m\u001b[43mxs\u001b[49m\u001b[43m=\u001b[49m\u001b[43mxs\u001b[49m\u001b[43m,\u001b[49m\u001b[43m \u001b[49m\u001b[43mys\u001b[49m\u001b[43m=\u001b[49m\u001b[43mys\u001b[49m\u001b[43m)\u001b[49m\n\u001b[32m      5\u001b[39m _ = [display(s) \u001b[38;5;28;01mfor\u001b[39;00m s \u001b[38;5;129;01min\u001b[39;00m splines]\n\u001b[32m      6\u001b[39m \u001b[38;5;28mprint\u001b[39m(\u001b[33m\"\u001b[39m\u001b[33m______\u001b[39m\u001b[33m\"\u001b[39m)\n",
      "\u001b[36mCell\u001b[39m\u001b[36m \u001b[39m\u001b[32mIn[6]\u001b[39m\u001b[32m, line 31\u001b[39m, in \u001b[36mcubic_spline\u001b[39m\u001b[34m(xs, ys)\u001b[39m\n\u001b[32m     29\u001b[39m \u001b[38;5;66;03m# alpha = # completar\u001b[39;00m\n\u001b[32m     30\u001b[39m \u001b[38;5;28;01mfor\u001b[39;00m i \u001b[38;5;129;01min\u001b[39;00m \u001b[38;5;28mrange\u001b[39m(\u001b[32m1\u001b[39m, n):\n\u001b[32m---> \u001b[39m\u001b[32m31\u001b[39m     \u001b[43malpha\u001b[49m[i] = \u001b[32m3\u001b[39m / h[i] * (ys[i + \u001b[32m1\u001b[39m] - ys[i]) - \u001b[32m3\u001b[39m / h[i - \u001b[32m1\u001b[39m] * (ys[i] - ys[i - \u001b[32m1\u001b[39m])\n\u001b[32m     33\u001b[39m l = [\u001b[32m1\u001b[39m]\n\u001b[32m     34\u001b[39m u = [\u001b[32m0\u001b[39m]\n",
      "\u001b[31mNameError\u001b[39m: name 'alpha' is not defined"
     ]
    }
   ],
   "source": [
    "xs = [0, 1, 2]\n",
    "ys = [-5, -4, 3]\n",
    "\n",
    "splines = cubic_spline(xs=xs, ys=ys)\n",
    "_ = [display(s) for s in splines]\n",
    "print(\"______\")\n",
    "_ = [display(s.expand()) for s in splines]"
   ]
  }
 ],
 "metadata": {
  "kernelspec": {
   "display_name": "Python 3",
   "language": "python",
   "name": "python3"
  },
  "language_info": {
   "codemirror_mode": {
    "name": "ipython",
    "version": 3
   },
   "file_extension": ".py",
   "mimetype": "text/x-python",
   "name": "python",
   "nbconvert_exporter": "python",
   "pygments_lexer": "ipython3",
   "version": "3.13.2"
  }
 },
 "nbformat": 4,
 "nbformat_minor": 2
}
